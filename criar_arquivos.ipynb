{
 "cells": [
  {
   "cell_type": "code",
   "execution_count": 7,
   "metadata": {},
   "outputs": [],
   "source": [
    "import random\n",
    "\n",
    "# Função para gerar datas aleatórias\n",
    "def gerar_datas_aleatorias(qtd_datas):\n",
    "    datas = []  # lista vazia para armazenar as datas\n",
    "    for _ in range(qtd_datas):\n",
    "        ano = random.randint(1900, 2023)\n",
    "        mes = random.randint(1, 12)\n",
    "        dia = random.randint(1, 28)  # Considerando 28 como o dia máximo\n",
    "        data_formatada = f\"{ano:04d}-{mes:02d}-{dia:02d}\"\n",
    "        datas.append(data_formatada)\n",
    "    return datas\n",
    "\n",
    "# Embaralhar as datas aleatórias\n",
    "datas_aleatorias = gerar_datas_aleatorias(1000)\n",
    "\n",
    "\n",
    "# Pasta onde serão armazenados os arquivos aleatórios\n",
    "pasta_arquivos_aleatorios = \"datas_aleatorias\"\n",
    "\n",
    "# Criar arquivos com diferentes quantidades de elementos\n",
    "for qtd in range(10, 1001, 10):\n",
    "    arquivo_nome = f\"{pasta_arquivos_aleatorios}/Arquivo_Aleatorio_{qtd}.txt\"\n",
    "    with open(arquivo_nome, \"w\") as arquivo:\n",
    "        for data in datas_aleatorias[:qtd]:\n",
    "            arquivo.write(data + \"\\n\")\n",
    "\n",
    "\n",
    "def selection_sort(arr):\n",
    "    for i in range(len(arr)):\n",
    "        min_index = i\n",
    "        for j in range(i + 1, len(arr)):\n",
    "            if arr[j] < arr[min_index]:\n",
    "                min_index = j\n",
    "        arr[i], arr[min_index] = arr[min_index], arr[i]\n",
    "\n",
    "datas_ordenadas = gerar_datas_aleatorias(1024)\n",
    "selection_sort(datas_ordenadas)\n",
    "# Pasta onde serão armazenados os arquivos ordenados\n",
    "\n",
    "pasta_arquivos_ordenados = \"datas_ordenadas\"\n",
    "\n",
    "# Criar arquivos com diferentes quantidades de elementos\n",
    "for qtd in range(22, 1025, 22):\n",
    "    arquivo_nome = f\"{pasta_arquivos_ordenados}/Arquivo_Ordenado_{qtd}.txt\"\n",
    "    with open(arquivo_nome, \"w\") as arquivo:\n",
    "        for data in datas_ordenadas[:qtd]:\n",
    "            arquivo.write(data + \"\\n\")\n"
   ]
  },
  {
   "cell_type": "code",
   "execution_count": 6,
   "metadata": {},
   "outputs": [
    {
     "ename": "NameError",
     "evalue": "name 'gerar_datas_aleatorias' is not defined",
     "output_type": "error",
     "traceback": [
      "\u001b[1;31m---------------------------------------------------------------------------\u001b[0m",
      "\u001b[1;31mNameError\u001b[0m                                 Traceback (most recent call last)",
      "\u001b[1;32mc:\\Users\\cauem\\OneDrive\\Documentos\\MeusProjetos\\aps_python\\criar_arquivos.ipynb Cell 2\u001b[0m line \u001b[0;36m9\n\u001b[0;32m      <a href='vscode-notebook-cell:/c%3A/Users/cauem/OneDrive/Documentos/MeusProjetos/aps_python/criar_arquivos.ipynb#W1sZmlsZQ%3D%3D?line=5'>6</a>\u001b[0m                 min_index \u001b[39m=\u001b[39m j\n\u001b[0;32m      <a href='vscode-notebook-cell:/c%3A/Users/cauem/OneDrive/Documentos/MeusProjetos/aps_python/criar_arquivos.ipynb#W1sZmlsZQ%3D%3D?line=6'>7</a>\u001b[0m         arr[i], arr[min_index] \u001b[39m=\u001b[39m arr[min_index], arr[i]\n\u001b[1;32m----> <a href='vscode-notebook-cell:/c%3A/Users/cauem/OneDrive/Documentos/MeusProjetos/aps_python/criar_arquivos.ipynb#W1sZmlsZQ%3D%3D?line=8'>9</a>\u001b[0m datas_ordenadas \u001b[39m=\u001b[39m gerar_datas_aleatorias(\u001b[39m1024\u001b[39m)\n\u001b[0;32m     <a href='vscode-notebook-cell:/c%3A/Users/cauem/OneDrive/Documentos/MeusProjetos/aps_python/criar_arquivos.ipynb#W1sZmlsZQ%3D%3D?line=9'>10</a>\u001b[0m \u001b[39m# Pasta onde serão armazenados os arquivos ordenados\u001b[39;00m\n\u001b[0;32m     <a href='vscode-notebook-cell:/c%3A/Users/cauem/OneDrive/Documentos/MeusProjetos/aps_python/criar_arquivos.ipynb#W1sZmlsZQ%3D%3D?line=10'>11</a>\u001b[0m pasta_arquivos_ordenados \u001b[39m=\u001b[39m \u001b[39m\"\u001b[39m\u001b[39mdatas_ordenadas\u001b[39m\u001b[39m\"\u001b[39m\n",
      "\u001b[1;31mNameError\u001b[0m: name 'gerar_datas_aleatorias' is not defined"
     ]
    }
   ],
   "source": []
  }
 ],
 "metadata": {
  "kernelspec": {
   "display_name": "Python 3",
   "language": "python",
   "name": "python3"
  },
  "language_info": {
   "codemirror_mode": {
    "name": "ipython",
    "version": 3
   },
   "file_extension": ".py",
   "mimetype": "text/x-python",
   "name": "python",
   "nbconvert_exporter": "python",
   "pygments_lexer": "ipython3",
   "version": "3.11.6"
  }
 },
 "nbformat": 4,
 "nbformat_minor": 2
}
