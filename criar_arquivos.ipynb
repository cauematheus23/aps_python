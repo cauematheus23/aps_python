{
 "cells": [
  {
   "cell_type": "code",
   "execution_count": 1,
   "metadata": {},
   "outputs": [],
   "source": [
    "import random\n",
    "\n",
    "# Função para gerar datas aleatórias\n",
    "def gerar_datas_aleatorias(qtd_datas):\n",
    "    datas = []  # lista vazia para armazenar as datas\n",
    "    for _ in range(qtd_datas):\n",
    "        ano = random.randint(1900, 2023)\n",
    "        mes = random.randint(1, 12)\n",
    "        dia = random.randint(1, 28)  # Considerando 28 como o dia máximo\n",
    "        data_formatada = f\"{ano:04d}-{mes:02d}-{dia:02d}\"\n",
    "        datas.append(data_formatada)\n",
    "    return datas\n",
    "\n",
    "# Embaralhar as datas aleatórias\n",
    "datas_aleatorias = gerar_datas_aleatorias(1000)\n",
    "\n",
    "\n",
    "# Pasta onde serão armazenados os arquivos aleatórios\n",
    "pasta_arquivos_aleatorios = \"datas_aleatorias\"\n",
    "\n",
    "# Criar arquivos com diferentes quantidades de elementos\n",
    "for qtd in range(10, 1001, 10):\n",
    "    arquivo_nome = f\"{pasta_arquivos_aleatorios}/Arquivo_Aleatorio_{qtd}.txt\"\n",
    "    with open(arquivo_nome, \"w\") as arquivo:\n",
    "        for data in datas_aleatorias[:qtd]:\n",
    "            arquivo.write(data + \"\\n\")\n"
   ]
  }
 ],
 "metadata": {
  "kernelspec": {
   "display_name": "Python 3",
   "language": "python",
   "name": "python3"
  },
  "language_info": {
   "codemirror_mode": {
    "name": "ipython",
    "version": 3
   },
   "file_extension": ".py",
   "mimetype": "text/x-python",
   "name": "python",
   "nbconvert_exporter": "python",
   "pygments_lexer": "ipython3",
   "version": "3.11.6"
  }
 },
 "nbformat": 4,
 "nbformat_minor": 2
}
